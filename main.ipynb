{
 "cells": [
  {
   "cell_type": "markdown",
   "metadata": {},
   "source": [
    "Natural Language Processing for Data Mining Project"
   ]
  },
  {
   "cell_type": "code",
   "execution_count": null,
   "metadata": {},
   "outputs": [],
   "source": [
    "# Libraries needed for Project\n",
    "\n",
    "# Data Analysis\n",
    "import pandas as pd\n",
    "import matplotlib.pyplot as plt\n",
    "import seaborn as sns\n",
    "\n",
    "# Data Preprocessing and Feature Engineering\n",
    "from textblob import TextBlob\n",
    "import string\n",
    "import re\n",
    "from nltk.stem import *\n",
    "from nltk.tokenize import TweetTokenizer\n",
    "from nltk.corpus import stopwords\n",
    "from nltk.stem.wordnet import WordNetLemmatizer\n",
    "from sklearn.feature_extraction.text import CountVectorizer, TfidfTransformer\n",
    "\n",
    "# Model Selection and Validation\n",
    "from sklearn.naive_bayes import MultinomialNB\n",
    "from sklearn.model_selection import train_test_split\n",
    "from sklearn.pipeline import Pipeline\n",
    "from sklearn.metrics import confusion_matrix, classification_report, accuracy_score"
   ]
  },
  {
   "cell_type": "markdown",
   "metadata": {},
   "source": [
    "Text Processing"
   ]
  },
  {
   "cell_type": "code",
   "execution_count": null,
   "metadata": {},
   "outputs": [],
   "source": [
    "# Importing the data using pandas into a dataframe\n",
    "\n",
    "train_tweets = pd.read_csv('training_tweets.csv')\n",
    "test_tweets = pd.read_csv('testing_tweets_tsla.csv')"
   ]
  },
  {
   "cell_type": "code",
   "execution_count": null,
   "metadata": {},
   "outputs": [],
   "source": [
    "# deleting any null rows that way the dataset is nice and even\n",
    "\n",
    "train_tweets = train_tweets.dropna()\n",
    "test_tweets = test_tweets.dropna()"
   ]
  },
  {
   "cell_type": "code",
   "execution_count": null,
   "metadata": {},
   "outputs": [],
   "source": [
    "# Creating variables that hold the training tweets and the testing tweets\n",
    "\n",
    "train_tweets = train_tweets[['label','tweets']]\n",
    "test = test_tweets['tweets']"
   ]
  },
  {
   "cell_type": "code",
   "execution_count": null,
   "metadata": {},
   "outputs": [],
   "source": [
    "# Visualize the ratio of positive and negative labels in the dataset\n",
    "\n",
    "sns.countplot(x = 'label', data = train_tweets)"
   ]
  },
  {
   "cell_type": "markdown",
   "metadata": {},
   "source": [
    "Data Preprocessing"
   ]
  },
  {
   "cell_type": "code",
   "execution_count": null,
   "metadata": {},
   "outputs": [],
   "source": [
    "# removal of punctuation from tweets\n",
    "\n",
    "def remove_punctuation(tweet):\n",
    "    tweet_blob = TextBlob(tweet)\n",
    "    return ' '.join(tweet_blob.words)"
   ]
  },
  {
   "cell_type": "code",
   "execution_count": null,
   "metadata": {},
   "outputs": [],
   "source": [
    "# tokenize the tweets\n",
    "\n",
    "def tokenize_tweets(tweet):\n",
    "    tweet_list = [ele for ele in tweet.split() if ele != 'user']\n",
    "    temp = [t for t in tweet_list if re.match(r'[^\\W\\d]*$', t)]\n",
    "    clean_tokens = ' '.join(temp)\n",
    "    return clean_tokens\n",
    "\n",
    "# removing the stop words and returning a clean list of words\n",
    "\n",
    "def remove_stop_words(tweet):\n",
    "    temp = tokenize_tweets(tweet)\n",
    "    no_stop_words = [word for word in temp.split() if word.lower() not in stopwords.words('english')]\n",
    "    return no_stop_words"
   ]
  },
  {
   "cell_type": "code",
   "execution_count": null,
   "metadata": {},
   "outputs": [],
   "source": [
    "# Lemmatizer will break the word down into its root\n",
    "\n",
    "def lemmatize_tweets(tweet):\n",
    "    lem = WordNetLemmatizer()\n",
    "    normalized_tweet = []\n",
    "    for word in tweet:\n",
    "        normalized_text = lem.lemmatize(word,'v')\n",
    "        normalized_tweet.append(normalized_text)\n",
    "    return normalized_tweet"
   ]
  },
  {
   "cell_type": "code",
   "execution_count": null,
   "metadata": {},
   "outputs": [],
   "source": [
    "#This is a function that will preprocess the tweet all at once\n",
    "\n",
    "def tweet_scrubber(tweet):\n",
    "    step1 = remove_punctuation(tweet)\n",
    "    step2 = tokenize_tweets(step1)\n",
    "    step3 = remove_stop_words(step2)\n",
    "    step4 = lemmatize_tweets(step3)\n",
    "\n",
    "    return step4\n",
    "\n",
    "# Tweet before and after\n",
    "print(train_tweets['tweets'][218])\n",
    "tweet_scrubber(train_tweets['tweets'][218])"
   ]
  },
  {
   "cell_type": "code",
   "execution_count": null,
   "metadata": {},
   "outputs": [],
   "source": [
    "# this will apply the function to scrub the tweets to make sure they are ready to be fed into ML Pipeline\n",
    "\n",
    "train_tweets['tweet_list'] = train_tweets['tweets'].apply(tweet_scrubber)\n",
    "test_tweets['tweet_list'] = test_tweets['tweets'].apply(tweet_scrubber)\n",
    "\n",
    "# example of how the new preprocessed tweet dataframe would look\n",
    "\n",
    "pd.set_option('display.max_colwidth', 120)\n",
    "train_tweets[train_tweets['label']==1].drop('tweets',axis=1).head()"
   ]
  },
  {
   "cell_type": "markdown",
   "metadata": {},
   "source": [
    "ML Algorithm"
   ]
  },
  {
   "cell_type": "code",
   "execution_count": null,
   "metadata": {},
   "outputs": [],
   "source": [
    "# creating variables to feed into the sklearn train_test_split function\n",
    "\n",
    "X = train_tweets['tweets']\n",
    "y = train_tweets['label']\n",
    "test = test_tweets['tweets']"
   ]
  },
  {
   "cell_type": "code",
   "execution_count": null,
   "metadata": {},
   "outputs": [],
   "source": [
    "# creating the 80/20 split\n",
    "\n",
    "msg_train, msg_test, label_train, label_test = train_test_split(X, y, test_size=0.2)"
   ]
  },
  {
   "cell_type": "code",
   "execution_count": null,
   "metadata": {},
   "outputs": [],
   "source": [
    "# Machine Learning Pipeline will take preprocessed data and apply the final vectorization to the data\n",
    "\n",
    "pipeline = Pipeline([\n",
    "    ('bow',CountVectorizer(analyzer = tweet_scrubber)),  # strings to token integer counts\n",
    "    ('tfidf', TfidfTransformer()),  # integer counts to weighted TF-IDF scores\n",
    "    ('classifier', MultinomialNB()),  # train on TF-IDF vectors w/ Naive Bayes classifier\n",
    "])\n",
    "\n",
    "pipeline.fit(msg_train, label_train)"
   ]
  },
  {
   "cell_type": "code",
   "execution_count": null,
   "metadata": {},
   "outputs": [],
   "source": [
    "# displaying the accuracy of the model\n",
    "\n",
    "predictions = pipeline.predict(msg_test)\n",
    "\n",
    "print(classification_report(predictions,label_test))\n",
    "print ('\\n')\n",
    "print(confusion_matrix(predictions,label_test))\n",
    "print(accuracy_score(predictions,label_test))"
   ]
  }
 ],
 "metadata": {
  "kernelspec": {
   "display_name": "Python 3.10.6 ('base')",
   "language": "python",
   "name": "python3"
  },
  "language_info": {
   "codemirror_mode": {
    "name": "ipython",
    "version": 3
   },
   "file_extension": ".py",
   "mimetype": "text/x-python",
   "name": "python",
   "nbconvert_exporter": "python",
   "pygments_lexer": "ipython3",
   "version": "3.10.6"
  },
  "orig_nbformat": 4,
  "vscode": {
   "interpreter": {
    "hash": "3d597f4c481aa0f25dceb95d2a0067e73c0966dcbd003d741d821a7208527ecf"
   }
  }
 },
 "nbformat": 4,
 "nbformat_minor": 2
}
